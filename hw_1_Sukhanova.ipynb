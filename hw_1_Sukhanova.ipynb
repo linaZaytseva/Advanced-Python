{
 "cells": [
  {
   "cell_type": "markdown",
   "metadata": {},
   "source": [
    "# \"Продвинутый Python\". Магистерская программа ВШЭ."
   ]
  },
  {
   "cell_type": "markdown",
   "metadata": {},
   "source": [
    "**Цель курса**: получить предстваление о принципах создания сервисов и реализовать их в собственном ML-проекте.\n",
    "\n",
    "**Ключевые навыки**: ООП, Django, luigi"
   ]
  },
  {
   "cell_type": "markdown",
   "metadata": {},
   "source": [
    "### Отчётность\n",
    "\n",
    "Зачётные баллы будут даваться за:\n",
    "\n",
    "1) __Курсовой проект__ \n",
    "\n",
    "В курсовом проекте необходимо будет сделать сервис, например, для решения какой-нибудь ML-задачи (но не обязательно). Список требований к сервису будет озвучен позже. За проект можно получить до **6 баллов**, причем проект должен сдаваться не за один раз. \n",
    "\n",
    "2) __Контрольные работы, контесты__ (но это не точно)\n",
    "\n",
    "Проводятся на занятиях. Могут принести до **2 баллов**.\n",
    "\n",
    "3) __Домашние задания__\n",
    "\n",
    "Могут принести неопределенное количество баллов.\n",
    "\n",
    "4) __Задания на занятии__\n",
    "\n",
    "Несложные задания за мелкие баллы.\n",
    "\n",
    "Суммарно можно будет **получить больше 10 баллов**. **Баллов хватит на всех :)**\n",
    "\n",
    "Все задачи должны быть оформлены в соответствии с PEP 8."
   ]
  },
  {
   "cell_type": "markdown",
   "metadata": {},
   "source": [
    "### Суханова Элина"
   ]
  },
  {
   "cell_type": "markdown",
   "metadata": {},
   "source": [
    "## Занятие №0. Core libraries. Разминка."
   ]
  },
  {
   "cell_type": "code",
   "execution_count": 1,
   "metadata": {},
   "outputs": [],
   "source": [
    "import sys"
   ]
  },
  {
   "cell_type": "markdown",
   "metadata": {},
   "source": [
    "**Как получить путь к интерпретатору?**"
   ]
  },
  {
   "cell_type": "code",
   "execution_count": 2,
   "metadata": {},
   "outputs": [],
   "source": [
    "sys.executable;"
   ]
  },
  {
   "cell_type": "markdown",
   "metadata": {},
   "source": [
    "**Как узнать, где ищутся модули для импорта?**"
   ]
  },
  {
   "cell_type": "code",
   "execution_count": 3,
   "metadata": {},
   "outputs": [],
   "source": [
    "sys.path;"
   ]
  },
  {
   "cell_type": "markdown",
   "metadata": {},
   "source": [
    "**Что может помочь написать кросс-платформенный код?**"
   ]
  },
  {
   "cell_type": "code",
   "execution_count": 4,
   "metadata": {},
   "outputs": [
    {
     "data": {
      "text/plain": [
       "'win32'"
      ]
     },
     "execution_count": 4,
     "metadata": {},
     "output_type": "execute_result"
    }
   ],
   "source": [
    "sys.platform"
   ]
  },
  {
   "cell_type": "markdown",
   "metadata": {},
   "source": [
    "**Как перенаправить поток вывода?**"
   ]
  },
  {
   "cell_type": "code",
   "execution_count": 5,
   "metadata": {},
   "outputs": [],
   "source": [
    "with open('log.txt', 'w') as f:\n",
    "    print(2, file=f)"
   ]
  },
  {
   "cell_type": "markdown",
   "metadata": {},
   "source": [
    "### Задача №0"
   ]
  },
  {
   "cell_type": "markdown",
   "metadata": {},
   "source": [
    "Вывести распределение слов в Zen of Python."
   ]
  },
  {
   "cell_type": "code",
   "execution_count": 6,
   "metadata": {
    "scrolled": true
   },
   "outputs": [],
   "source": [
    "from io import StringIO\n",
    "\n",
    "import sys"
   ]
  },
  {
   "cell_type": "markdown",
   "metadata": {},
   "source": [
    "Перенаправим поток вывода в переменную"
   ]
  },
  {
   "cell_type": "code",
   "execution_count": 7,
   "metadata": {},
   "outputs": [],
   "source": [
    "stdout = sys.stdout\n",
    "\n",
    "text_from_this = StringIO()\n",
    "sys.stdout = text_from_this"
   ]
  },
  {
   "cell_type": "markdown",
   "metadata": {},
   "source": [
    "Запишем Zen of Python в переменную `text_from_this` и вернем консольный вывод"
   ]
  },
  {
   "cell_type": "code",
   "execution_count": 8,
   "metadata": {},
   "outputs": [],
   "source": [
    "import this"
   ]
  },
  {
   "cell_type": "code",
   "execution_count": 9,
   "metadata": {},
   "outputs": [],
   "source": [
    "sys.stdout = stdout "
   ]
  },
  {
   "cell_type": "code",
   "execution_count": 10,
   "metadata": {},
   "outputs": [],
   "source": [
    "import re\n",
    "from collections import Counter, OrderedDict"
   ]
  },
  {
   "cell_type": "code",
   "execution_count": 11,
   "metadata": {},
   "outputs": [],
   "source": [
    "mapping_rules = {\n",
    "    \"[-.\\n,*!]\": \" \",\n",
    "    \"n't\": \" not\",\n",
    "    \"'re\": \" are\",\n",
    "    \"it's\": \"it is\",\n",
    "    \"let's\": \"let us\"\n",
    "}"
   ]
  },
  {
   "cell_type": "markdown",
   "metadata": {},
   "source": [
    "Подумайте, в чем непотимальность следующего блока? Как сделать оптимальным?"
   ]
  },
  {
   "cell_type": "code",
   "execution_count": 12,
   "metadata": {},
   "outputs": [],
   "source": [
    "zen_string = text_from_this.getvalue().lower()\n",
    "\n",
    "for rule in mapping_rules:\n",
    "    zen_string = re.sub(rule, mapping_rules[rule], zen_string)"
   ]
  },
  {
   "cell_type": "code",
   "execution_count": 28,
   "metadata": {
    "scrolled": true
   },
   "outputs": [
    {
     "data": {
      "text/plain": [
       "[('is', 11),\n",
       " ('better', 8),\n",
       " ('than', 8),\n",
       " ('the', 6),\n",
       " ('to', 5),\n",
       " ('of', 3),\n",
       " ('are', 3),\n",
       " ('although', 3),\n",
       " ('never', 3),\n",
       " ('be', 3),\n",
       " ('one', 3),\n",
       " ('it', 3),\n",
       " ('idea', 3),\n",
       " ('complex', 2),\n",
       " ('special', 2),\n",
       " ('not', 2),\n",
       " ('should', 2),\n",
       " ('unless', 2),\n",
       " ('obvious', 2),\n",
       " ('way', 2),\n",
       " ('do', 2),\n",
       " ('may', 2),\n",
       " ('now', 2),\n",
       " ('if', 2),\n",
       " ('implementation', 2),\n",
       " ('explain', 2),\n",
       " ('a', 2),\n",
       " ('zen', 1),\n",
       " ('python', 1),\n",
       " ('by', 1),\n",
       " ('tim', 1),\n",
       " ('peters', 1),\n",
       " ('beautiful', 1),\n",
       " ('ugly', 1),\n",
       " ('explicit', 1),\n",
       " ('implicit', 1),\n",
       " ('simple', 1),\n",
       " ('complicated', 1),\n",
       " ('flat', 1),\n",
       " ('nested', 1),\n",
       " ('sparse', 1),\n",
       " ('dense', 1),\n",
       " ('readability', 1),\n",
       " ('counts', 1),\n",
       " ('cases', 1),\n",
       " ('enough', 1),\n",
       " ('break', 1),\n",
       " ('rules', 1),\n",
       " ('practicality', 1),\n",
       " ('beats', 1),\n",
       " ('purity', 1),\n",
       " ('errors', 1),\n",
       " ('pass', 1),\n",
       " ('silently', 1),\n",
       " ('explicitly', 1),\n",
       " ('silenced', 1),\n",
       " ('in', 1),\n",
       " ('face', 1),\n",
       " ('ambiguity', 1),\n",
       " ('refuse', 1),\n",
       " ('temptation', 1),\n",
       " ('guess', 1),\n",
       " ('there', 1),\n",
       " ('and', 1),\n",
       " ('preferably', 1),\n",
       " ('only', 1),\n",
       " ('that', 1),\n",
       " ('at', 1),\n",
       " ('first', 1),\n",
       " ('you', 1),\n",
       " ('dutch', 1),\n",
       " ('often', 1),\n",
       " ('right', 1),\n",
       " ('hard', 1),\n",
       " ('bad', 1),\n",
       " ('easy', 1),\n",
       " ('good', 1),\n",
       " ('namespaces', 1),\n",
       " ('honking', 1),\n",
       " ('great', 1),\n",
       " ('let', 1),\n",
       " ('us', 1),\n",
       " ('more', 1),\n",
       " ('those', 1)]"
      ]
     },
     "execution_count": 28,
     "metadata": {},
     "output_type": "execute_result"
    }
   ],
   "source": [
    "words_distribution = Counter(zen_string.split())\n",
    "words_distribution.most_common()"
   ]
  },
  {
   "cell_type": "markdown",
   "metadata": {},
   "source": [
    "### Домашнее задание №0 [0.2 балла]"
   ]
  },
  {
   "cell_type": "markdown",
   "metadata": {},
   "source": [
    "**Условие**:\n",
    "\n",
    "Функция `delete_zeros_from_array` принимает на вход массив целых чисел из промежутка [0; 5] и удалает из него все _нули_. Алгоритм должен иметь сложность `O(N)`, где N - длина массива, и использовать `O(1)` дополнительной памяти.\n",
    "\n",
    "Построить **графики** зависимости времени работы алгоритма от количества элементов в нем. \n",
    "\n",
    "**Примечания**:\n",
    "\n",
    "1) Для наглядности лучше генерить массивы, в которых количество удаляемых элементов **больше трети** от всех элементов.\n",
    "\n",
    "2) В такой постановке можно проверить, как разработчик выбирает имена переменных и думает ли о функции глобально. Например, следующим вопросом было бы \"А что если хотим удалять единицы?\""
   ]
  },
  {
   "cell_type": "code",
   "execution_count": 1,
   "metadata": {},
   "outputs": [],
   "source": [
    "# Bad way\n",
    "\n",
    "def delete_zeros_from_array(array):\n",
    "    #     logic for deleting zeroes\n",
    "    pass"
   ]
  },
  {
   "cell_type": "code",
   "execution_count": 2,
   "metadata": {},
   "outputs": [],
   "source": [
    "# Not bad way\n",
    "\n",
    "from functools import partial\n",
    "\n",
    "def delete_elements_from_array(array, element):\n",
    "    \"\"\"\n",
    "        This function deletes all elements that equal to element from array. \n",
    "        \n",
    "        :param array: Input array\n",
    "        :type array: list\n",
    "        :param element: Element that must be deleted from array\n",
    "        :type element: int\n",
    "        \n",
    "        :returns: New array without element with the other elements in the same order\n",
    "        :rtype: list\n",
    "    \"\"\"\n",
    "    return([x for x in array if x != 0])\n",
    "    \n",
    "delete_zeros_from_array = partial(delete_elements_from_array, element=0)"
   ]
  },
  {
   "cell_type": "markdown",
   "metadata": {},
   "source": [
    "Проверим, что функция работает"
   ]
  },
  {
   "cell_type": "code",
   "execution_count": 3,
   "metadata": {},
   "outputs": [
    {
     "data": {
      "text/plain": [
       "[1, 3, 5]"
      ]
     },
     "execution_count": 3,
     "metadata": {},
     "output_type": "execute_result"
    }
   ],
   "source": [
    "delete_zeros_from_array([0,0,1,3,0,5])"
   ]
  },
  {
   "cell_type": "markdown",
   "metadata": {},
   "source": [
    "Построим график зависимости времени работы функции от длины массива"
   ]
  },
  {
   "cell_type": "code",
   "execution_count": 6,
   "metadata": {},
   "outputs": [],
   "source": [
    "%matplotlib inline\n",
    "import matplotlib.pyplot as plt\n",
    "\n",
    "import time\n",
    "from tqdm import tqdm\n",
    "import numpy as np"
   ]
  },
  {
   "cell_type": "code",
   "execution_count": 7,
   "metadata": {},
   "outputs": [
    {
     "name": "stderr",
     "output_type": "stream",
     "text": [
      "100%|██████████| 100000/100000 [26:42<00:00, 62.41it/s]\n"
     ]
    }
   ],
   "source": [
    "a = np.arange(6) # задаем цифры от 0 до 5\n",
    "p_a = [0.40, 0.12, 0.12, 0.12, 0.12, 0.12] # задаем вероятность цифр, для 0 > 33%\n",
    "end_time = dict()\n",
    "for n in tqdm(range(1,100001,1)):\n",
    "    my_array = np.random.choice(a, n, p=p_a)\n",
    "    start_time = time.time()\n",
    "    delete_zeros_from_array(my_array)\n",
    "    end_time[n] = time.time() - start_time"
   ]
  },
  {
   "cell_type": "code",
   "execution_count": 9,
   "metadata": {},
   "outputs": [
    {
     "data": {
      "text/plain": [
       "Text(0, 0.5, 'time')"
      ]
     },
     "execution_count": 9,
     "metadata": {},
     "output_type": "execute_result"
    },
    {
     "data": {
      "image/png": "[encoded data removed]",
      "text/plain": [
       "<Figure size 432x288 with 1 Axes>"
      ]
     },
     "metadata": {
      "needs_background": "light"
     },
     "output_type": "display_data"
    }
   ],
   "source": [
    "plt.scatter(end_time.keys(), end_time.values())\n",
    "plt.xlabel(\"array's length\")\n",
    "plt.ylabel('time')"
   ]
  },
  {
   "cell_type": "markdown",
   "metadata": {},
   "source": [
    "Видим, что с увеличением длины массива ~ линейно растет время работы функции"
   ]
  },
  {
   "cell_type": "markdown",
   "metadata": {},
   "source": [
    "Зачем нужна doc string? Как её посмотерть?"
   ]
  },
  {
   "cell_type": "markdown",
   "metadata": {},
   "source": [
    "doc string описывает назначение функции, входные параметры и их типы, результат работы функции. С ее помощью просто разобраться в функции, написанной другим человеком."
   ]
  },
  {
   "cell_type": "markdown",
   "metadata": {},
   "source": [
    "### Домашнее задание №1 [0.05 балла]\n",
    "\n",
    "**Условие**:\n",
    "\n",
    "Написать функцию (-и), которая принимает на вход 3 комплексных числа и выводит минимальное из них по модулю без использования функций min, max, sort и т.д.\n",
    "\n",
    "\n",
    "**Комментарии**:\n",
    "\n",
    "1) В процессе сдачи задания, можно будет получить дополнительные баллы\n",
    "\n",
    "2) Код должен быть пригоден для промышленного использования"
   ]
  },
  {
   "cell_type": "code",
   "execution_count": 28,
   "metadata": {},
   "outputs": [],
   "source": [
    "def module_complex(z):\n",
    "    \"\"\"\n",
    "        This function returns module of complex number z. \n",
    "        \n",
    "        :param z: complex number\n",
    "        :type z: complex\n",
    "        \n",
    "        :returns: module of complex number\n",
    "        :rtype: float\n",
    "    \"\"\"\n",
    "    return(math.sqrt(z.real**2 + z.imag**2))\n",
    "    \n",
    "def min_complex(a,b,c):\n",
    "    \"\"\"\n",
    "        This function returns the minimum of 3 complex numbers modulo. \n",
    "        \n",
    "        :param a: complex number\n",
    "        :type a: complex\n",
    "        \n",
    "        :param b: complex number\n",
    "        :type b: complex\n",
    "        \n",
    "        :param c: complex number\n",
    "        :type c: complex\n",
    "        \n",
    "        :returns: minimum of 3 complex numbers modulo\n",
    "        :rtype: complex\n",
    "    \"\"\"\n",
    "    complex_dict = {a:abs(module_complex(a)),\n",
    "                   b:abs(module_complex(b)),\n",
    "                   c:abs(module_complex(c))}\n",
    "    if complex_dict[a] <= complex_dict[b]:\n",
    "        if complex_dict[a] <= complex_dict[c]:\n",
    "            return(a)\n",
    "        else:\n",
    "            return(c)\n",
    "    else:\n",
    "        if complex_dict[b] <= complex_dict[c]:\n",
    "            return(b)\n",
    "        else:\n",
    "            return(c)"
   ]
  },
  {
   "cell_type": "code",
   "execution_count": 29,
   "metadata": {},
   "outputs": [
    {
     "data": {
      "text/plain": [
       "(1+2j)"
      ]
     },
     "execution_count": 29,
     "metadata": {},
     "output_type": "execute_result"
    }
   ],
   "source": [
    "min_complex(complex(1, 2), complex(3,4), complex(5,6))"
   ]
  },
  {
   "cell_type": "markdown",
   "metadata": {},
   "source": [
    "### Домашнее задание №2 [0.18 балла]"
   ]
  },
  {
   "cell_type": "markdown",
   "metadata": {},
   "source": [
    "**Условие**:\n",
    "\n",
    "Вы - банкомат, который работает по следующей схеме: считывает номер вставленной в него карты, парсит его на 4 равные части и генерирует 4 числа Фибоначчи с номерами, соответствущими распаршенным частям. Затем генерирует числа из всевозможных перестановок полученных чисел Фибоначчи (конкатенацией).\n",
    "\n",
    "Для каждого числа из полученного набора банкомат находит НОД с введеным пользователем паролем и возвращает медиану из полученных НОДов. \n",
    "\n",
    "**Комментарии**:\n",
    "\n",
    "1) Поток клиентов большой, операции повторяющиеся - хорошо бы, чтобы со временем банкомат отвечал быстрее на запросы.\n",
    "\n",
    "2) За неполное решение также дается часть баллов.\n",
    "\n",
    "**Ключевые слова**: lru_cache, permutations, алгоритм Евклида"
   ]
  },
  {
   "cell_type": "code",
   "execution_count": 11,
   "metadata": {},
   "outputs": [],
   "source": [
    "import textwrap\n",
    "from functools import lru_cache\n",
    "import itertools"
   ]
  },
  {
   "cell_type": "code",
   "execution_count": 12,
   "metadata": {},
   "outputs": [],
   "source": [
    "@lru_cache(maxsize=None)\n",
    "def get_fibonacci(n):\n",
    "    \"\"\"\n",
    "        This function returns fibonacci number number n. \n",
    "        \n",
    "        :param n: number of fibonacci number\n",
    "        :type n: int\n",
    "        \n",
    "        :returns: fibonacci number number n\n",
    "        :rtype: int\n",
    "    \"\"\"\n",
    "    if n < 2:\n",
    "        return n\n",
    "    return get_fibonacci(n-1) + get_fibonacci(n-2)\n",
    "\n",
    "def gcd(a, b):\n",
    "    \"\"\"\n",
    "        This function returns gcd of 2 numbers. \n",
    "        \n",
    "        :param a: number 1\n",
    "        :type a: int\n",
    "        \n",
    "        :param b: number 2\n",
    "        :type b: int\n",
    "        \n",
    "        :returns: gcd of a and b\n",
    "        :rtype: int\n",
    "    \"\"\"\n",
    "    while a != 0 and b != 0: # Алгоритм Евклида\n",
    "        if a > b:\n",
    "            a = a % b\n",
    "        else:\n",
    "            b = b % a\n",
    "    return(int(a + b))\n",
    "\n",
    "def ATM(card_number, password):\n",
    "    \"\"\"\n",
    "        This function acts like an ATM. \n",
    "        \n",
    "        :param card_number: card nuber\n",
    "        :type card_number: string\n",
    "        \n",
    "        :param password: password\n",
    "        :type password: int\n",
    "        \n",
    "        :returns: number\n",
    "        :rtype: int\n",
    "    \"\"\"\n",
    "    numbers = [int(i) for i in textwrap.wrap(card_number, 4)] # делим номер карты на 4 числа\n",
    "    # считаем соответствующие числа Фибоначчи\n",
    "    fib_numbers = [str(get_fibonacci(numbers[0])), str(get_fibonacci(numbers[1])), str(get_fibonacci(numbers[2])), str(get_fibonacci(numbers[3]))]\n",
    "    items = itertools.permutations(fib_numbers) # составляем всевозможные перестановки полученных чисел Фибоначчи\n",
    "    gcd_list = []\n",
    "    for item in items:\n",
    "        gcd_list.append(gcd(int(\"\".join(item)), password)) # считаем НОД каждой перестановки с паролем\n",
    "    return(np.median(gcd_list))"
   ]
  },
  {
   "cell_type": "markdown",
   "metadata": {},
   "source": [
    "Проверяем, что все работает"
   ]
  },
  {
   "cell_type": "code",
   "execution_count": 13,
   "metadata": {},
   "outputs": [
    {
     "data": {
      "text/plain": [
       "1.0"
      ]
     },
     "execution_count": 13,
     "metadata": {},
     "output_type": "execute_result"
    }
   ],
   "source": [
    "ATM('0001000200030004', 12345)"
   ]
  },
  {
   "cell_type": "markdown",
   "metadata": {},
   "source": [
    "Для нахождения чисел Фибоначчи использовали рекурсию. Засчет @lru_cache функция не будет каждый раз пересчитывать все дерево с нуля."
   ]
  },
  {
   "cell_type": "markdown",
   "metadata": {},
   "source": [
    "### Домашнее задание №3 [0 - 0.1 балла]\n",
    "\n",
    "**Условие:**\n",
    "    \n",
    "Сравнить скорость работы и потребление памяти list и deque.\n",
    "\n",
    "**Комментарий:**\n",
    "\n",
    "Количесвто баллов зависит от полноты сравнения."
   ]
  },
  {
   "cell_type": "code",
   "execution_count": null,
   "metadata": {},
   "outputs": [],
   "source": []
  },
  {
   "cell_type": "markdown",
   "metadata": {},
   "source": [
    "### Домашнее задание №4 [0 - 0.1 балла]\n",
    "\n",
    "**Условие:**\n",
    "    \n",
    "Написать аналог permutations и провести сравнение скорости работы и потребления памяти.\n",
    "\n",
    "**Комментарий:**\n",
    "\n",
    "Количесвто баллов зависит от полноты сравнения."
   ]
  }
 ],
 "metadata": {
  "kernelspec": {
   "display_name": "Python 3",
   "language": "python",
   "name": "python3"
  },
  "language_info": {
   "codemirror_mode": {
    "name": "ipython",
    "version": 3
   },
   "file_extension": ".py",
   "mimetype": "text/x-python",
   "name": "python",
   "nbconvert_exporter": "python",
   "pygments_lexer": "ipython3",
   "version": "3.7.3"
  }
 },
 "nbformat": 4,
 "nbformat_minor": 2
}
